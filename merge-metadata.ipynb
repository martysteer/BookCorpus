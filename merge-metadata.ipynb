{
 "cells": [
  {
   "cell_type": "markdown",
   "id": "e69ac2f9-70f7-462c-ba53-9b9c5042cbe3",
   "metadata": {},
   "source": [
    "## Merge metadata\n",
    "\n",
    "notebook to merge metadata from https://github.com/soskek/bookcorpus and the smashwords text file corpus."
   ]
  },
  {
   "cell_type": "code",
   "execution_count": 1,
   "id": "1a8b4e8a-24e7-4004-b2d2-a7b137e44962",
   "metadata": {},
   "outputs": [],
   "source": [
    "import glob\n",
    "import pandas as pd"
   ]
  },
  {
   "cell_type": "code",
   "execution_count": 2,
   "id": "1312ab06-cea7-470c-b409-1080c579362b",
   "metadata": {},
   "outputs": [
    {
     "data": {
      "text/html": [
       "<div>\n",
       "<style scoped>\n",
       "    .dataframe tbody tr th:only-of-type {\n",
       "        vertical-align: middle;\n",
       "    }\n",
       "\n",
       "    .dataframe tbody tr th {\n",
       "        vertical-align: top;\n",
       "    }\n",
       "\n",
       "    .dataframe thead th {\n",
       "        text-align: right;\n",
       "    }\n",
       "</style>\n",
       "<table border=\"1\" class=\"dataframe\">\n",
       "  <thead>\n",
       "    <tr style=\"text-align: right;\">\n",
       "      <th></th>\n",
       "      <th>epub</th>\n",
       "      <th>title</th>\n",
       "      <th>author</th>\n",
       "      <th>genres</th>\n",
       "      <th>publish</th>\n",
       "      <th>num_words</th>\n",
       "      <th>filename</th>\n",
       "    </tr>\n",
       "    <tr>\n",
       "      <th>b_idx</th>\n",
       "      <th></th>\n",
       "      <th></th>\n",
       "      <th></th>\n",
       "      <th></th>\n",
       "      <th></th>\n",
       "      <th></th>\n",
       "      <th></th>\n",
       "    </tr>\n",
       "  </thead>\n",
       "  <tbody>\n",
       "    <tr>\n",
       "      <th>1</th>\n",
       "      <td>https://www.smashwords.com/books/download/2465...</td>\n",
       "      <td>Silence</td>\n",
       "      <td>Natasha Preston</td>\n",
       "      <td>[\\n                            Category: Ficti...</td>\n",
       "      <td>Oct. 19, 2012</td>\n",
       "      <td>84880</td>\n",
       "      <td>silence.epub</td>\n",
       "    </tr>\n",
       "    <tr>\n",
       "      <th>2</th>\n",
       "      <td>https://www.smashwords.com/books/download/8869...</td>\n",
       "      <td>How to Be Free</td>\n",
       "      <td>Joe Blow</td>\n",
       "      <td>[\\n                            Category: Nonfi...</td>\n",
       "      <td>Sep. 13, 2011</td>\n",
       "      <td>24210</td>\n",
       "      <td>how-to-be-free.epub</td>\n",
       "    </tr>\n",
       "    <tr>\n",
       "      <th>3</th>\n",
       "      <td>https://www.smashwords.com/books/download/7123...</td>\n",
       "      <td>The Pirate, Part I: The Traitor</td>\n",
       "      <td>Malcolm Torres</td>\n",
       "      <td>[\\n                            Category: Ficti...</td>\n",
       "      <td>March 18, 2017</td>\n",
       "      <td>21010</td>\n",
       "      <td>the-pirate-part-i-the-traitor.epub</td>\n",
       "    </tr>\n",
       "    <tr>\n",
       "      <th>4</th>\n",
       "      <td>https://www.smashwords.com/books/download/1194...</td>\n",
       "      <td>The New Girl</td>\n",
       "      <td>Tracie Puckett</td>\n",
       "      <td>[\\n                            Category: Ficti...</td>\n",
       "      <td>Jan. 2, 2012</td>\n",
       "      <td>21330</td>\n",
       "      <td>the-new-girl.epub</td>\n",
       "    </tr>\n",
       "    <tr>\n",
       "      <th>5</th>\n",
       "      <td>https://www.smashwords.com/books/download/6389...</td>\n",
       "      <td>Sharp Shooter</td>\n",
       "      <td>Marianne Delacourt</td>\n",
       "      <td>[\\n                            Category: Ficti...</td>\n",
       "      <td>May 25, 2016</td>\n",
       "      <td>76000</td>\n",
       "      <td>sharp-shooter.epub</td>\n",
       "    </tr>\n",
       "  </tbody>\n",
       "</table>\n",
       "</div>"
      ],
      "text/plain": [
       "                                                    epub  \\\n",
       "b_idx                                                      \n",
       "1      https://www.smashwords.com/books/download/2465...   \n",
       "2      https://www.smashwords.com/books/download/8869...   \n",
       "3      https://www.smashwords.com/books/download/7123...   \n",
       "4      https://www.smashwords.com/books/download/1194...   \n",
       "5      https://www.smashwords.com/books/download/6389...   \n",
       "\n",
       "                                 title              author  \\\n",
       "b_idx                                                        \n",
       "1                              Silence     Natasha Preston   \n",
       "2                       How to Be Free            Joe Blow   \n",
       "3      The Pirate, Part I: The Traitor      Malcolm Torres   \n",
       "4                         The New Girl      Tracie Puckett   \n",
       "5                        Sharp Shooter  Marianne Delacourt   \n",
       "\n",
       "                                                  genres         publish  \\\n",
       "b_idx                                                                      \n",
       "1      [\\n                            Category: Ficti...   Oct. 19, 2012   \n",
       "2      [\\n                            Category: Nonfi...   Sep. 13, 2011   \n",
       "3      [\\n                            Category: Ficti...  March 18, 2017   \n",
       "4      [\\n                            Category: Ficti...    Jan. 2, 2012   \n",
       "5      [\\n                            Category: Ficti...    May 25, 2016   \n",
       "\n",
       "       num_words                            filename  \n",
       "b_idx                                                 \n",
       "1          84880                        silence.epub  \n",
       "2          24210                 how-to-be-free.epub  \n",
       "3          21010  the-pirate-part-i-the-traitor.epub  \n",
       "4          21330                   the-new-girl.epub  \n",
       "5          76000                  sharp-shooter.epub  "
      ]
     },
     "execution_count": 2,
     "metadata": {},
     "output_type": "execute_result"
    }
   ],
   "source": [
    "meta = './data/soskek-bookcorpus/url_list.jsonl'\n",
    "meta = pd.read_json(meta, lines=True).set_index('b_idx')  # set index\n",
    "\n",
    "# del some columns we don't need\n",
    "del meta['page']\n",
    "del meta['txt']\n",
    "\n",
    "# extract filename from path and put into new column\n",
    "meta['filename'] = meta.epub.str.split('/', expand=True)[10]\n",
    "\n",
    "meta.head()"
   ]
  },
  {
   "cell_type": "code",
   "execution_count": 3,
   "id": "36b844b9-13c3-4f80-a89e-80a28f27720a",
   "metadata": {},
   "outputs": [
    {
     "data": {
      "text/plain": [
       "['1-2-this-is-only-the-beginning.epub',\n",
       " '1-god-poems-on-god-creator-volume-1.epub',\n",
       " '1-god-poems-on-god-creator-volume-2.epub',\n",
       " '1-god-poems-on-god-creator-volume-3.epub',\n",
       " '1-god-poems-on-god-creator-volume-4.epub']"
      ]
     },
     "execution_count": 3,
     "metadata": {},
     "output_type": "execute_result"
    }
   ],
   "source": [
    "# Get all the files which have been downloaded into a list\n",
    "texts = !ls ./build/books1/epubtxt/\n",
    "\n",
    "# Remove .txt file extensions\n",
    "texts = [t[:-4] for t in texts]\n",
    "\n",
    "texts[:5]"
   ]
  },
  {
   "cell_type": "markdown",
   "id": "12a1a41e-0d53-47a4-9dc3-f3f25ce3ac5b",
   "metadata": {},
   "source": [
    "Now we can join this file list into the dataframe, to join the metadata to the filesystem."
   ]
  },
  {
   "cell_type": "code",
   "execution_count": 4,
   "id": "422262a9-4b83-4bd3-bb5e-5738ccff3ee8",
   "metadata": {},
   "outputs": [],
   "source": [
    "fn = pd.DataFrame(texts, columns=['filename'])"
   ]
  },
  {
   "cell_type": "code",
   "execution_count": 5,
   "id": "60bfab8a-b9db-4f58-aee9-2d4c0de70326",
   "metadata": {},
   "outputs": [
    {
     "data": {
      "text/html": [
       "<div>\n",
       "<style scoped>\n",
       "    .dataframe tbody tr th:only-of-type {\n",
       "        vertical-align: middle;\n",
       "    }\n",
       "\n",
       "    .dataframe tbody tr th {\n",
       "        vertical-align: top;\n",
       "    }\n",
       "\n",
       "    .dataframe thead th {\n",
       "        text-align: right;\n",
       "    }\n",
       "</style>\n",
       "<table border=\"1\" class=\"dataframe\">\n",
       "  <thead>\n",
       "    <tr style=\"text-align: right;\">\n",
       "      <th></th>\n",
       "      <th>epub</th>\n",
       "      <th>title</th>\n",
       "      <th>author</th>\n",
       "      <th>genres</th>\n",
       "      <th>publish</th>\n",
       "      <th>num_words</th>\n",
       "      <th>filename</th>\n",
       "    </tr>\n",
       "  </thead>\n",
       "  <tbody>\n",
       "    <tr>\n",
       "      <th>0</th>\n",
       "      <td>https://www.smashwords.com/books/download/2465...</td>\n",
       "      <td>Silence</td>\n",
       "      <td>Natasha Preston</td>\n",
       "      <td>[\\n                            Category: Ficti...</td>\n",
       "      <td>Oct. 19, 2012</td>\n",
       "      <td>84880</td>\n",
       "      <td>silence.epub</td>\n",
       "    </tr>\n",
       "    <tr>\n",
       "      <th>1</th>\n",
       "      <td>https://www.smashwords.com/books/download/8869...</td>\n",
       "      <td>How to Be Free</td>\n",
       "      <td>Joe Blow</td>\n",
       "      <td>[\\n                            Category: Nonfi...</td>\n",
       "      <td>Sep. 13, 2011</td>\n",
       "      <td>24210</td>\n",
       "      <td>how-to-be-free.epub</td>\n",
       "    </tr>\n",
       "    <tr>\n",
       "      <th>2</th>\n",
       "      <td>https://www.smashwords.com/books/download/7123...</td>\n",
       "      <td>The Pirate, Part I: The Traitor</td>\n",
       "      <td>Malcolm Torres</td>\n",
       "      <td>[\\n                            Category: Ficti...</td>\n",
       "      <td>March 18, 2017</td>\n",
       "      <td>21010</td>\n",
       "      <td>the-pirate-part-i-the-traitor.epub</td>\n",
       "    </tr>\n",
       "    <tr>\n",
       "      <th>3</th>\n",
       "      <td>https://www.smashwords.com/books/download/1194...</td>\n",
       "      <td>The New Girl</td>\n",
       "      <td>Tracie Puckett</td>\n",
       "      <td>[\\n                            Category: Ficti...</td>\n",
       "      <td>Jan. 2, 2012</td>\n",
       "      <td>21330</td>\n",
       "      <td>the-new-girl.epub</td>\n",
       "    </tr>\n",
       "    <tr>\n",
       "      <th>4</th>\n",
       "      <td>https://www.smashwords.com/books/download/6389...</td>\n",
       "      <td>Sharp Shooter</td>\n",
       "      <td>Marianne Delacourt</td>\n",
       "      <td>[\\n                            Category: Ficti...</td>\n",
       "      <td>May 25, 2016</td>\n",
       "      <td>76000</td>\n",
       "      <td>sharp-shooter.epub</td>\n",
       "    </tr>\n",
       "    <tr>\n",
       "      <th>...</th>\n",
       "      <td>...</td>\n",
       "      <td>...</td>\n",
       "      <td>...</td>\n",
       "      <td>...</td>\n",
       "      <td>...</td>\n",
       "      <td>...</td>\n",
       "      <td>...</td>\n",
       "    </tr>\n",
       "    <tr>\n",
       "      <th>14629</th>\n",
       "      <td>https://www.smashwords.com/books/download/5277...</td>\n",
       "      <td>Why The World Needs Heroes</td>\n",
       "      <td>Jonathan Aquino</td>\n",
       "      <td>[\\n                            Category: Essay...</td>\n",
       "      <td>March 15, 2015</td>\n",
       "      <td>26110</td>\n",
       "      <td>why-the-world-needs-heroes.epub</td>\n",
       "    </tr>\n",
       "    <tr>\n",
       "      <th>14630</th>\n",
       "      <td>https://www.smashwords.com/books/download/3518...</td>\n",
       "      <td>The unavoidable question of life: What After D...</td>\n",
       "      <td>D. HUBERT R. TATANG</td>\n",
       "      <td>[\\n                            Category: Nonfi...</td>\n",
       "      <td>Aug. 27, 2013</td>\n",
       "      <td>30820</td>\n",
       "      <td>the-unavoidable-question-of-life-what-after-de...</td>\n",
       "    </tr>\n",
       "    <tr>\n",
       "      <th>14631</th>\n",
       "      <td>https://www.smashwords.com/books/download/4488...</td>\n",
       "      <td>Hawk Banks - Founding Texas</td>\n",
       "      <td>D. Allen Henry</td>\n",
       "      <td>[\\n                            Category: Ficti...</td>\n",
       "      <td>June 16, 2014</td>\n",
       "      <td>119020</td>\n",
       "      <td>hawk-banks-founding-texas.epub</td>\n",
       "    </tr>\n",
       "    <tr>\n",
       "      <th>14632</th>\n",
       "      <td>https://www.smashwords.com/books/download/2911...</td>\n",
       "      <td>The Expats</td>\n",
       "      <td>Ivy D'Souza</td>\n",
       "      <td>[\\n                            Category: Ficti...</td>\n",
       "      <td>March 1, 2013</td>\n",
       "      <td>38040</td>\n",
       "      <td>the-expats.epub</td>\n",
       "    </tr>\n",
       "    <tr>\n",
       "      <th>14633</th>\n",
       "      <td>https://www.smashwords.com/books/download/2382...</td>\n",
       "      <td>The Fire of Heaven</td>\n",
       "      <td>Robert Jones</td>\n",
       "      <td>[\\n                            Category: Nonfi...</td>\n",
       "      <td>Sep. 21, 2012</td>\n",
       "      <td>73050</td>\n",
       "      <td>the-fire-of-heaven.epub</td>\n",
       "    </tr>\n",
       "  </tbody>\n",
       "</table>\n",
       "<p>14634 rows × 7 columns</p>\n",
       "</div>"
      ],
      "text/plain": [
       "                                                    epub  \\\n",
       "0      https://www.smashwords.com/books/download/2465...   \n",
       "1      https://www.smashwords.com/books/download/8869...   \n",
       "2      https://www.smashwords.com/books/download/7123...   \n",
       "3      https://www.smashwords.com/books/download/1194...   \n",
       "4      https://www.smashwords.com/books/download/6389...   \n",
       "...                                                  ...   \n",
       "14629  https://www.smashwords.com/books/download/5277...   \n",
       "14630  https://www.smashwords.com/books/download/3518...   \n",
       "14631  https://www.smashwords.com/books/download/4488...   \n",
       "14632  https://www.smashwords.com/books/download/2911...   \n",
       "14633  https://www.smashwords.com/books/download/2382...   \n",
       "\n",
       "                                                   title               author  \\\n",
       "0                                                Silence      Natasha Preston   \n",
       "1                                         How to Be Free             Joe Blow   \n",
       "2                        The Pirate, Part I: The Traitor       Malcolm Torres   \n",
       "3                                           The New Girl       Tracie Puckett   \n",
       "4                                          Sharp Shooter   Marianne Delacourt   \n",
       "...                                                  ...                  ...   \n",
       "14629                         Why The World Needs Heroes      Jonathan Aquino   \n",
       "14630  The unavoidable question of life: What After D...  D. HUBERT R. TATANG   \n",
       "14631                        Hawk Banks - Founding Texas       D. Allen Henry   \n",
       "14632                                         The Expats          Ivy D'Souza   \n",
       "14633                                 The Fire of Heaven         Robert Jones   \n",
       "\n",
       "                                                  genres         publish  \\\n",
       "0      [\\n                            Category: Ficti...   Oct. 19, 2012   \n",
       "1      [\\n                            Category: Nonfi...   Sep. 13, 2011   \n",
       "2      [\\n                            Category: Ficti...  March 18, 2017   \n",
       "3      [\\n                            Category: Ficti...    Jan. 2, 2012   \n",
       "4      [\\n                            Category: Ficti...    May 25, 2016   \n",
       "...                                                  ...             ...   \n",
       "14629  [\\n                            Category: Essay...  March 15, 2015   \n",
       "14630  [\\n                            Category: Nonfi...   Aug. 27, 2013   \n",
       "14631  [\\n                            Category: Ficti...   June 16, 2014   \n",
       "14632  [\\n                            Category: Ficti...   March 1, 2013   \n",
       "14633  [\\n                            Category: Nonfi...   Sep. 21, 2012   \n",
       "\n",
       "       num_words                                           filename  \n",
       "0          84880                                       silence.epub  \n",
       "1          24210                                how-to-be-free.epub  \n",
       "2          21010                 the-pirate-part-i-the-traitor.epub  \n",
       "3          21330                                  the-new-girl.epub  \n",
       "4          76000                                 sharp-shooter.epub  \n",
       "...          ...                                                ...  \n",
       "14629      26110                    why-the-world-needs-heroes.epub  \n",
       "14630      30820  the-unavoidable-question-of-life-what-after-de...  \n",
       "14631     119020                     hawk-banks-founding-texas.epub  \n",
       "14632      38040                                    the-expats.epub  \n",
       "14633      73050                            the-fire-of-heaven.epub  \n",
       "\n",
       "[14634 rows x 7 columns]"
      ]
     },
     "execution_count": 5,
     "metadata": {},
     "output_type": "execute_result"
    }
   ],
   "source": [
    "df = pd.merge(meta, fn, on=['filename'])\n",
    "df"
   ]
  },
  {
   "cell_type": "code",
   "execution_count": 67,
   "id": "fa87fec5-6514-4e43-b6df-a33249e51a59",
   "metadata": {},
   "outputs": [],
   "source": [
    "fiction = df[df['genres'].astype(str).str.contains('Fiction')]\n",
    "fiction = fiction[fiction['genres'].astype(str).str.contains('Science')]"
   ]
  },
  {
   "cell_type": "code",
   "execution_count": 68,
   "id": "460ecec0-255f-45cc-8691-dda7fc78be77",
   "metadata": {},
   "outputs": [],
   "source": [
    "import os\n",
    "import shutil\n",
    "\n",
    "outpath = './build/scifi/'\n",
    "if not os.path.exists(outpath):\n",
    "    os.mkdir(outpath)\n",
    "\n",
    "# copy files into new dir\n",
    "for f in fiction.filename:\n",
    "    shutil.copy2('./build/books1/epubtxt/' + f + '.txt', outpath + f + '.txt')\n",
    "\n",
    "# save metadata as csv\n",
    "fiction.to_csv('./build/scifi.csv')"
   ]
  },
  {
   "cell_type": "code",
   "execution_count": 76,
   "id": "744e1c8d-0e0f-422d-a506-de5438dfea85",
   "metadata": {},
   "outputs": [],
   "source": [
    "fiction['publish'] =  pd.to_datetime(fiction['publish'])"
   ]
  },
  {
   "cell_type": "code",
   "execution_count": 98,
   "id": "5b131ced-62d4-4f76-900b-ee09a30efe29",
   "metadata": {},
   "outputs": [
    {
     "data": {
      "text/plain": [
       "(1720, 7)"
      ]
     },
     "execution_count": 98,
     "metadata": {},
     "output_type": "execute_result"
    }
   ],
   "source": [
    "fiction.shape"
   ]
  },
  {
   "cell_type": "code",
   "execution_count": 77,
   "id": "049addbd-18fd-45b2-914d-806aa3438f28",
   "metadata": {},
   "outputs": [
    {
     "data": {
      "text/plain": [
       "<AxesSubplot:>"
      ]
     },
     "execution_count": 77,
     "metadata": {},
     "output_type": "execute_result"
    },
    {
     "data": {
      "image/png": "[encoded data removed]",
      "text/plain": [
       "<Figure size 432x288 with 1 Axes>"
      ]
     },
     "metadata": {
      "needs_background": "light"
     },
     "output_type": "display_data"
    }
   ],
   "source": [
    "fiction.publish.hist()"
   ]
  },
  {
   "cell_type": "code",
   "execution_count": 110,
   "id": "107430de-122f-4f6f-88b1-83d9d66e6554",
   "metadata": {},
   "outputs": [
    {
     "data": {
      "text/plain": [
       "<AxesSubplot:>"
      ]
     },
     "execution_count": 110,
     "metadata": {},
     "output_type": "execute_result"
    },
    {
     "data": {
      "image/png": "[encoded data removed]",
      "text/plain": [
       "<Figure size 432x288 with 1 Axes>"
      ]
     },
     "metadata": {
      "needs_background": "light"
     },
     "output_type": "display_data"
    }
   ],
   "source": [
    "fiction.num_words.hist()"
   ]
  },
  {
   "cell_type": "code",
   "execution_count": 109,
   "id": "f4c20abe-a149-4eea-b7ea-26e89c1fc37d",
   "metadata": {},
   "outputs": [
    {
     "data": {
      "text/plain": [
       "72348.96511627907"
      ]
     },
     "execution_count": 109,
     "metadata": {},
     "output_type": "execute_result"
    }
   ],
   "source": [
    "fiction.num_words.mean()"
   ]
  },
  {
   "cell_type": "markdown",
   "id": "33aaaf5a-9507-4279-b270-a7ad2f7b4b99",
   "metadata": {},
   "source": [
    "Great, so now we have a corpus with 1720 books written between 2010-2019, with average length of 72k words."
   ]
  },
  {
   "cell_type": "code",
   "execution_count": 85,
   "id": "29d657c4-16f2-4294-967d-ef0bf437e607",
   "metadata": {},
   "outputs": [
    {
     "data": {
      "text/plain": [
       "Philip Bosshardt       32\n",
       "Beth Hoyer             23\n",
       "Odette C. Bell         16\n",
       "Philip R Benge         13\n",
       "Hylton Smith           12\n",
       "                       ..\n",
       "Dan Knight              1\n",
       "Delphine Dryden         1\n",
       "Walter Jon Williams     1\n",
       "Patrick Arnesen         1\n",
       "Sam T Willis            1\n",
       "Name: author, Length: 1174, dtype: int64"
      ]
     },
     "execution_count": 85,
     "metadata": {},
     "output_type": "execute_result"
    }
   ],
   "source": [
    "fiction.author.value_counts()"
   ]
  },
  {
   "cell_type": "code",
   "execution_count": 97,
   "id": "e00ab12e-116a-4676-8ada-177824b62592",
   "metadata": {},
   "outputs": [
    {
     "data": {
      "text/plain": [
       "[\\n                            Category: Fiction » Science fiction » General ]                                                                                                      156\n",
       "[\\n                            Category: Fiction » Science fiction » Adventure ]                                                                                                    155\n",
       "[\\n                            Category: Fiction » Science fiction » Space opera ]                                                                                                   81\n",
       "[\\n                            Category: Fiction » Science fiction » Short stories ]                                                                                                 44\n",
       "[\\n                            Category: Fiction » Science fiction » General , \\n                            Category: Fiction » Science fiction » Adventure ]                       39\n",
       "                                                                                                                                                                                   ... \n",
       "[\\n                            Category: Fiction » Science fiction » General , \\n                            Category: Fiction » Mystery & detective » General ]                      1\n",
       "[\\n                            Category: Fiction » Young adult or teen , \\n                            Category: Fiction » Science fiction » Adventure ]                              1\n",
       "[\\n                            Category: Fiction » Science fiction » Adventure , \\n                            Category: Fiction » Humor & comedy » Parody ]                          1\n",
       "[\\n                            Category: Fiction » Children’s books » Fairy tales & fables , \\n                            Category: Fiction » Science fiction » General ]            1\n",
       "[\\n                            Category: Fiction » Thriller & suspense » Psychological thriller , \\n                            Category: Fiction » Science fiction » Military ]      1\n",
       "Name: genres, Length: 465, dtype: int64"
      ]
     },
     "execution_count": 97,
     "metadata": {},
     "output_type": "execute_result"
    }
   ],
   "source": [
    "fiction.genres.value_counts()"
   ]
  },
  {
   "cell_type": "code",
   "execution_count": null,
   "id": "01ec1188-b27a-404c-9543-2638f8529f71",
   "metadata": {},
   "outputs": [],
   "source": []
  }
 ],
 "metadata": {
  "kernelspec": {
   "display_name": "Python 3 (ipykernel)",
   "language": "python",
   "name": "python3"
  },
  "language_info": {
   "codemirror_mode": {
    "name": "ipython",
    "version": 3
   },
   "file_extension": ".py",
   "mimetype": "text/x-python",
   "name": "python",
   "nbconvert_exporter": "python",
   "pygments_lexer": "ipython3",
   "version": "3.10.4"
  }
 },
 "nbformat": 4,
 "nbformat_minor": 5
}
